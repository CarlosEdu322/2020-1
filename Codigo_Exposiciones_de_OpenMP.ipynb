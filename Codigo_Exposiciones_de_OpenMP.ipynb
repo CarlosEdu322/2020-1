{
  "nbformat": 4,
  "nbformat_minor": 0,
  "metadata": {
    "colab": {
      "name": "Exposiciones de OpenMP (ASIGNATURA DE ALGORITMOS PARALELOS Y DISTRIBUIDOS).ipynb",
      "provenance": [],
      "collapsed_sections": [],
      "toc_visible": true,
      "include_colab_link": true
    },
    "kernelspec": {
      "display_name": "Python 3",
      "name": "python3"
    },
    "accelerator": "GPU"
  },
  "cells": [
    {
      "cell_type": "markdown",
      "metadata": {
        "id": "view-in-github",
        "colab_type": "text"
      },
      "source": [
        "<a href=\"https://colab.research.google.com/github/ParalelaUnsaac/2020-1/blob/main/Exposiciones_de_OpenMP_(ASIGNATURA_DE_ALGORITMOS_PARALELOS_Y_DISTRIBUIDOS).ipynb\" target=\"_parent\"><img src=\"https://colab.research.google.com/assets/colab-badge.svg\" alt=\"Open In Colab\"/></a>"
      ]
    },
    {
      "cell_type": "markdown",
      "metadata": {
        "id": "fQxzQRRBexsr"
      },
      "source": [
        "#**EXPOSICIONES DE OPENMP**"
      ]
    },
    {
      "cell_type": "markdown",
      "metadata": {
        "id": "mPrkcI6-e-tS"
      },
      "source": [
        "##**1. Shared**"
      ]
    },
    {
      "cell_type": "code",
      "metadata": {
        "id": "8YD02-schweN",
        "outputId": "78de1d18-f130-455d-dc15-559043c3a304",
        "colab": {
          "base_uri": "https://localhost:8080/",
          "height": 132
        }
      },
      "source": [
        "#include <iostream>\n",
        "#include <omp.h>\n",
        "\n",
        "int main()\n",
        "{\n",
        "    int i;\n",
        "    #pragma omp parallel shared(i)\n",
        "    {\n",
        "        //imprime un texto\n",
        "        \n",
        "        printf(\"Etra un hilo a la seccion paralela que este libre %d\\n \");\n",
        "        for (i = 0; i < 10; i++)\n",
        "        {\n",
        "            std::cout << i << std::endl;\n",
        "        }\n",
        "     \n",
        "    }\n",
        "    printf(\"Fin de la impresión de ciclos...!\\n\");\n",
        " \n",
        "    getchar();\n",
        "    return 0;\n",
        " }\n"
      ],
      "execution_count": null,
      "outputs": [
        {
          "output_type": "error",
          "ename": "SyntaxError",
          "evalue": "ignored",
          "traceback": [
            "\u001b[0;36m  File \u001b[0;32m\"<ipython-input-1-2016caa340e8>\"\u001b[0;36m, line \u001b[0;32m4\u001b[0m\n\u001b[0;31m    int main()\u001b[0m\n\u001b[0m           ^\u001b[0m\n\u001b[0;31mSyntaxError\u001b[0m\u001b[0;31m:\u001b[0m invalid syntax\n"
          ]
        }
      ]
    },
    {
      "cell_type": "markdown",
      "metadata": {
        "id": "r6c-G9AyfaRv"
      },
      "source": [
        "##**2. Private**"
      ]
    },
    {
      "cell_type": "code",
      "metadata": {
        "id": "L7_exva2hxn0"
      },
      "source": [
        ""
      ],
      "execution_count": null,
      "outputs": []
    },
    {
      "cell_type": "markdown",
      "metadata": {
        "id": "MzkNRRn-fgAo"
      },
      "source": [
        "##**3. Firstprivate**"
      ]
    },
    {
      "cell_type": "markdown",
      "metadata": {
        "id": "L2CEAULQQTN4"
      },
      "source": [
        "**Integrantes**\n",
        "\n",
        "\n",
        "*   MAMANI QUINTA MICHAEL ANTONNI     164566\n",
        "*   MACEDO-GHEILER-SEBASTIAN ISRAEL    164243\n",
        "\n",
        "\n"
      ]
    },
    {
      "cell_type": "code",
      "metadata": {
        "id": "4U1PnTPthyWy",
        "outputId": "55699c50-2de7-4f97-8edb-74e40a3aff90",
        "colab": {
          "base_uri": "https://localhost:8080/"
        }
      },
      "source": [
        "code=\"\"\"#include <stdio.h>\n",
        "#include <stdlib.h>\n",
        "#include <omp.h>\n",
        "int main(int argc, char* argv[]) \n",
        "{\n",
        "  int i;\n",
        "  int x;\n",
        "  x=44;\n",
        "  #pragma omp parallel for firstprivate(x)\n",
        "  for(i=0;i<=10;i++)\n",
        "  {\n",
        "    x=i;\n",
        "    printf(\" Thread number: %d     x: %d\\n \",omp_get_thread_num(),x);\n",
        "  }\n",
        "  printf(\" x is %d\\n \", x);\n",
        "}\"\"\"\n",
        "text_file = open(\"code.c\", \"w\")\n",
        "text_file.write(code)\n",
        "text_file.close()\n",
        "%env OMP_NUM_THREADS=4\n",
        "!gcc -o Ejecutar -fopenmp code.c\n",
        "!./Ejecutar"
      ],
      "execution_count": null,
      "outputs": [
        {
          "output_type": "stream",
          "text": [
            "env: OMP_NUM_THREADS=4\n",
            "\u001b[01m\u001b[Kcode.c:\u001b[m\u001b[K In function ‘\u001b[01m\u001b[Kmain\u001b[m\u001b[K’:\n",
            "\u001b[01m\u001b[Kcode.c:13:12:\u001b[m\u001b[K \u001b[01;35m\u001b[Kwarning: \u001b[m\u001b[Kmissing terminating \" character\n",
            "     printf(\u001b[01;35m\u001b[K\"\u001b[m\u001b[K Thread number: %d     x: %d\n",
            "            \u001b[01;35m\u001b[K^\u001b[m\u001b[K\n",
            "\u001b[01m\u001b[Kcode.c:13:12:\u001b[m\u001b[K \u001b[01;31m\u001b[Kerror: \u001b[m\u001b[Kmissing terminating \" character\n",
            "     printf(\u001b[01;31m\u001b[K\" Thread number: %d     x: %d\u001b[m\u001b[K\n",
            "            \u001b[01;31m\u001b[K^~~~~~~~~~~~~~~~~~~~~~~~~~~~~\u001b[m\u001b[K\n",
            "\u001b[01m\u001b[Kcode.c:14:2:\u001b[m\u001b[K \u001b[01;35m\u001b[Kwarning: \u001b[m\u001b[Kmissing terminating \" character\n",
            "  \u001b[01;35m\u001b[K\"\u001b[m\u001b[K,omp_get_thread_num(),x);\n",
            "  \u001b[01;35m\u001b[K^\u001b[m\u001b[K\n",
            "\u001b[01m\u001b[Kcode.c:14:2:\u001b[m\u001b[K \u001b[01;31m\u001b[Kerror: \u001b[m\u001b[Kmissing terminating \" character\n",
            "  \u001b[01;31m\u001b[K\",omp_get_thread_num(),x);\u001b[m\u001b[K\n",
            "  \u001b[01;31m\u001b[K^~~~~~~~~~~~~~~~~~~~~~~~~~\u001b[m\u001b[K\n",
            "\u001b[01m\u001b[Kcode.c:15:3:\u001b[m\u001b[K \u001b[01;31m\u001b[Kerror: \u001b[m\u001b[Kexpected expression before ‘\u001b[01m\u001b[K}\u001b[m\u001b[K’ token\n",
            "   \u001b[01;31m\u001b[K}\u001b[m\u001b[K\n",
            "   \u001b[01;31m\u001b[K^\u001b[m\u001b[K\n",
            "\u001b[01m\u001b[Kcode.c:15:3:\u001b[m\u001b[K \u001b[01;31m\u001b[Kerror: \u001b[m\u001b[Kexpected ‘\u001b[01m\u001b[K;\u001b[m\u001b[K’ before ‘\u001b[01m\u001b[K}\u001b[m\u001b[K’ token\n",
            "\u001b[01m\u001b[Kcode.c:16:10:\u001b[m\u001b[K \u001b[01;35m\u001b[Kwarning: \u001b[m\u001b[Kmissing terminating \" character\n",
            "   printf(\u001b[01;35m\u001b[K\"\u001b[m\u001b[K x is %d\n",
            "          \u001b[01;35m\u001b[K^\u001b[m\u001b[K\n",
            "\u001b[01m\u001b[Kcode.c:16:10:\u001b[m\u001b[K \u001b[01;31m\u001b[Kerror: \u001b[m\u001b[Kmissing terminating \" character\n",
            "   printf(\u001b[01;31m\u001b[K\" x is %d\u001b[m\u001b[K\n",
            "          \u001b[01;31m\u001b[K^~~~~~~~~\u001b[m\u001b[K\n",
            "\u001b[01m\u001b[Kcode.c:17:2:\u001b[m\u001b[K \u001b[01;35m\u001b[Kwarning: \u001b[m\u001b[Kmissing terminating \" character\n",
            "  \u001b[01;35m\u001b[K\"\u001b[m\u001b[K, x);\n",
            "  \u001b[01;35m\u001b[K^\u001b[m\u001b[K\n",
            "\u001b[01m\u001b[Kcode.c:17:2:\u001b[m\u001b[K \u001b[01;31m\u001b[Kerror: \u001b[m\u001b[Kmissing terminating \" character\n",
            "  \u001b[01;31m\u001b[K\", x);\u001b[m\u001b[K\n",
            "  \u001b[01;31m\u001b[K^~~~~~\u001b[m\u001b[K\n",
            "\u001b[01m\u001b[Kcode.c:18:1:\u001b[m\u001b[K \u001b[01;31m\u001b[Kerror: \u001b[m\u001b[Kexpected expression before ‘\u001b[01m\u001b[K}\u001b[m\u001b[K’ token\n",
            " \u001b[01;31m\u001b[K}\u001b[m\u001b[K\n",
            " \u001b[01;31m\u001b[K^\u001b[m\u001b[K\n",
            "\u001b[01m\u001b[Kcode.c:18:1:\u001b[m\u001b[K \u001b[01;31m\u001b[Kerror: \u001b[m\u001b[Kexpected ‘\u001b[01m\u001b[K;\u001b[m\u001b[K’ before ‘\u001b[01m\u001b[K}\u001b[m\u001b[K’ token\n",
            "/bin/bash: ./Ejecutar: No such file or directory\n"
          ],
          "name": "stdout"
        }
      ]
    },
    {
      "cell_type": "markdown",
      "metadata": {
        "id": "nU0sivUIflMC"
      },
      "source": [
        "##**4. Lastprivate**"
      ]
    },
    {
      "cell_type": "markdown",
      "metadata": {
        "id": "PrYMhXFB_sUR"
      },
      "source": [
        "**INTEGRANTES:**\n",
        "\n",
        "*  Guevara Ferro Cristian Luis\n",
        "*  Ore Gamarra Benjamin Abraham\n",
        "\n"
      ]
    },
    {
      "cell_type": "code",
      "metadata": {
        "id": "vhMpg3JehzOZ",
        "outputId": "77bb0dcc-549e-4348-d99d-3dbfefe8c206",
        "colab": {
          "base_uri": "https://localhost:8080/",
          "height": 132
        }
      },
      "source": [
        "#include <iostream>\n",
        "#include <omp.h>\n",
        "#include <stdlib.h>\n",
        "\n",
        "int main()\n",
        "{\n",
        "    #pragma omp parallel for private(i) lastprivate(a)\n",
        "    for (i=0; i<n; i++)\n",
        "    {\n",
        "      a = i+1;\n",
        "      printf(\"Thread %d has a value of a = %d for i = %d\\n\",\n",
        "      omp_get_thread_num(),a,i);\n",
        "    } /-- End of parallel for --/\n",
        "    printf(\"Value of a after parallel for: a = %d\\n\",a);\n",
        "    return 0;\n",
        "}"
      ],
      "execution_count": null,
      "outputs": [
        {
          "output_type": "error",
          "ename": "SyntaxError",
          "evalue": "ignored",
          "traceback": [
            "\u001b[0;36m  File \u001b[0;32m\"<ipython-input-3-a05d057bb448>\"\u001b[0;36m, line \u001b[0;32m5\u001b[0m\n\u001b[0;31m    int main()\u001b[0m\n\u001b[0m           ^\u001b[0m\n\u001b[0;31mSyntaxError\u001b[0m\u001b[0;31m:\u001b[0m invalid syntax\n"
          ]
        }
      ]
    },
    {
      "cell_type": "markdown",
      "metadata": {
        "id": "GgT2TFR6fpsk"
      },
      "source": [
        "##**5. Reduction**\n",
        "1. Pumacahua Apaza Leonardo Chepper - 171524\n",
        "2. Puma Sotomayor Richard Mihaylov - 182928"
      ]
    },
    {
      "cell_type": "code",
      "metadata": {
        "id": "2x2TtZ4kh2Vu"
      },
      "source": [
        "code=\"\"\"\n",
        "#include <stdio.h>\n",
        "#include <iostream>\n",
        "#include <iomanip>\n",
        "#include <omp.h>\n",
        "\n",
        "using namespace std;\n",
        "\n",
        "double ProductoPunto(double* A, double* B, int n)\n",
        "{\n",
        "\tdouble Prod = 0;\n",
        "\tint tid;\n",
        "\tomp_set_num_threads(n);\n",
        "\n",
        "\t#pragma omp parallel for reduction(+:Prod)\n",
        "\tfor (int i = 0; i < n; i++)\n",
        "\t{\n",
        "\t\ttid = omp_get_thread_num();\n",
        "\t\tProd += (A[i] * B[i]);\n",
        "\t\tcout << \"Hilo \" << tid << \" calculó el producto: \" << Prod << endl;\t\n",
        "\t}\n",
        "\n",
        "\treturn Prod;\n",
        "}\n",
        "int main()\n",
        "{\n",
        "\tint n;\n",
        "\tcout << \"Ingrese cantidad de datos: \";\n",
        "\tcin >> n;\n",
        "\n",
        "\tdouble* A = new double[n];\n",
        "\tdouble* B = new double[n];\n",
        "\n",
        "\tfor (int i = 0; i < n; i++)\n",
        "\t\tA[i] = rand() % 9;\n",
        "\tfor (int i = 0; i < n; i++)\n",
        "\t\tcout << A[i] << \" \";\n",
        "\tcout << endl;\n",
        "\n",
        "\tfor (int j = 0; j < n; j++)\n",
        "\t\tB[j] = rand() % 9;\n",
        "\tfor (int j = 0; j < n; j++)\n",
        "\t\tcout << B[j] << \" \";\n",
        "\tcout << endl;\n",
        "\n",
        "\tdouble PP = ProductoPunto(A, B, n);\n",
        "\tcout << endl;\n",
        "\tcout << \"El producto punto es: \" << PP << endl;\n",
        "\n",
        "\treturn(0);\n",
        "}\n",
        "\"\"\""
      ],
      "execution_count": null,
      "outputs": []
    },
    {
      "cell_type": "markdown",
      "metadata": {
        "id": "EK17rsOXfsrf"
      },
      "source": [
        "##**6. Threadprivate**"
      ]
    },
    {
      "cell_type": "markdown",
      "metadata": {
        "id": "UkvrTFSB9jg0"
      },
      "source": [
        "***Integrates***\n",
        "1. ###***Reison Dario Corazao Hinojosa***\n",
        "***Gary Brigham Chunga Castillo***"
      ]
    },
    {
      "cell_type": "code",
      "metadata": {
        "id": "M3eVG-Lbh3Gr",
        "outputId": "f7a65e3f-9df1-4dd7-da15-6be80a687e1c",
        "colab": {
          "background_save": true,
          "base_uri": "https://localhost:8080/"
        }
      },
      "source": [
        "code=\"\"\"\n",
        "#include <omp.h>\n",
        "#include <stdlib.h>\n",
        "\n",
        "int  a, b, i, tid;\n",
        "float x;\n",
        "\n",
        "#pragma omp threadprivate(a, x)\n",
        "\n",
        "int main(int argc, char* argv[]) {\n",
        "\n",
        "\tprintf(\"1st Parallel Region:\\\\n\");\n",
        "#pragma omp parallel private(b,tid)\n",
        "\t{\n",
        "\t\ttid = omp_get_thread_num();\n",
        "\t\ta = tid;\n",
        "\t\tb = tid;\n",
        "\t\tx = 1.1 * tid + 1.0;\n",
        "\t\tprintf(\"Thread %d:   a,b,x= %d %d %f\\\\n\", tid, a, b, x);\n",
        "\t}  \n",
        "\t//* end of parallel region */\n",
        "\n",
        "\tprintf(\"************************************\\\\n\");\n",
        "\tprintf(\"Master thread doing serial work here\\\\n\");\n",
        "\tprintf(\"************************************\\\\n\");\n",
        "\n",
        "\tprintf(\"2nd Parallel Region:\\\\n\");\n",
        "#pragma omp parallel private(tid)\n",
        "\t{\n",
        "\t\ttid = omp_get_thread_num();\n",
        "\t\tprintf(\"Thread %d:   a,b,x= %d %d %f\\\\n\", tid, a, b, x);\n",
        "\t}  \n",
        "\t/* end of parallel region */\n",
        "\n",
        "}\"\"\"\n",
        "text_file = open(\"code.c\", \"w\")\n",
        "text_file.write(code)\n",
        "text_file.close()\n",
        "%env OMP_NUM_THREADS=4\n",
        "!gcc -o Ejecutar -fopenmp code.c\n",
        "!./Ejecutar"
      ],
      "execution_count": null,
      "outputs": [
        {
          "output_type": "stream",
          "text": [
            "env: OMP_NUM_THREADS=4\n",
            "\u001b[01m\u001b[Kcode.c:\u001b[m\u001b[K In function ‘\u001b[01m\u001b[Kmain\u001b[m\u001b[K’:\n",
            "\u001b[01m\u001b[Kcode.c:12:2:\u001b[m\u001b[K \u001b[01;35m\u001b[Kwarning: \u001b[m\u001b[Kimplicit declaration of function ‘\u001b[01m\u001b[Kprintf\u001b[m\u001b[K’ [\u001b[01;35m\u001b[K-Wimplicit-function-declaration\u001b[m\u001b[K]\n",
            "  \u001b[01;35m\u001b[Kprintf\u001b[m\u001b[K(\"1st Parallel Region:\\n\");\n",
            "  \u001b[01;35m\u001b[K^~~~~~\u001b[m\u001b[K\n",
            "\u001b[01m\u001b[Kcode.c:12:2:\u001b[m\u001b[K \u001b[01;35m\u001b[Kwarning: \u001b[m\u001b[Kincompatible implicit declaration of built-in function ‘\u001b[01m\u001b[Kprintf\u001b[m\u001b[K’\n",
            "\u001b[01m\u001b[Kcode.c:12:2:\u001b[m\u001b[K \u001b[01;36m\u001b[Knote: \u001b[m\u001b[Kinclude ‘\u001b[01m\u001b[K<stdio.h>\u001b[m\u001b[K’ or provide a declaration of ‘\u001b[01m\u001b[Kprintf\u001b[m\u001b[K’\n",
            "1st Parallel Region:\n",
            "Thread 1:   a,b,x= 1 1 2.100000\n",
            "Thread 2:   a,b,x= 2 2 3.200000\n",
            "Thread 3:   a,b,x= 3 3 4.300000\n",
            "Thread 0:   a,b,x= 0 0 1.000000\n",
            "************************************\n",
            "Master thread doing serial work here\n",
            "************************************\n",
            "2nd Parallel Region:\n",
            "Thread 3:   a,b,x= 3 0 4.300000\n",
            "Thread 1:   a,b,x= 1 0 2.100000\n",
            "Thread 2:   a,b,x= 2 0 3.200000\n",
            "Thread 0:   a,b,x= 0 0 1.000000\n"
          ],
          "name": "stdout"
        }
      ]
    },
    {
      "cell_type": "markdown",
      "metadata": {
        "id": "79B7F15OfywV"
      },
      "source": [
        "##**7. Copyin**"
      ]
    },
    {
      "cell_type": "code",
      "metadata": {
        "id": "EndFO-xDh3-3"
      },
      "source": [
        ""
      ],
      "execution_count": null,
      "outputs": []
    },
    {
      "cell_type": "markdown",
      "metadata": {
        "id": "O7VKxB8rf3yt"
      },
      "source": [
        "##**8. If**\n",
        "##**Integrantes:**\n",
        "##**-Calderon Tintaya Fallcha Xiomara ...171057**\n",
        "##**-Sullca Peralta Melanie Indira   ...........171070**"
      ]
    },
    {
      "cell_type": "code",
      "metadata": {
        "id": "O-ajTDDM9SrD",
        "outputId": "e592c5fa-577c-40dc-cbc5-8adc3193ab86",
        "colab": {
          "base_uri": "https://localhost:8080/"
        }
      },
      "source": [
        "%%writefile openmp1.c\n",
        "// omp_if.cpp\n",
        "// compile with: /openmp\n",
        "#include <stdio.h>\n",
        "#include <omp.h>\n",
        "\n",
        "void test(int val)\n",
        "{\n",
        "    #pragma omp parallel if (val)\n",
        "    if (omp_in_parallel())\n",
        "    {\n",
        "        #pragma omp single\n",
        "        printf(\"val = %d, parallelized with %d threads\\n\",\n",
        "                 val, omp_get_num_threads());\n",
        "    }\n",
        "    else\n",
        "    {\n",
        "        printf(\"val = %d, serialized\\n\", val);\n",
        "    }\n",
        "}\n",
        "\n",
        "int main( )\n",
        "{\n",
        "    omp_set_num_threads(2);\n",
        "    test(0);\n",
        "    test(2);\n",
        "}"
      ],
      "execution_count": null,
      "outputs": [
        {
          "output_type": "stream",
          "text": [
            "Writing openmp1.c\n"
          ],
          "name": "stdout"
        }
      ]
    },
    {
      "cell_type": "code",
      "metadata": {
        "id": "o9YMrTTWvQtM"
      },
      "source": [
        "!gcc -fopenmp openmp1.c -o openmp1"
      ],
      "execution_count": null,
      "outputs": []
    },
    {
      "cell_type": "code",
      "metadata": {
        "id": "iEcZjfj7vkwt",
        "outputId": "9dd997d3-bc27-4cf3-de17-e8d0a154154f",
        "colab": {
          "base_uri": "https://localhost:8080/"
        }
      },
      "source": [
        "!./openmp1"
      ],
      "execution_count": null,
      "outputs": [
        {
          "output_type": "stream",
          "text": [
            "val = 0, serialized\n",
            "val = 2, parallelized with 2 threads\n"
          ],
          "name": "stdout"
        }
      ]
    },
    {
      "cell_type": "markdown",
      "metadata": {
        "id": "DPe1kWlkf6o5"
      },
      "source": [
        "##**9. Num_threads**"
      ]
    },
    {
      "cell_type": "code",
      "metadata": {
        "id": "pyZY500O9QGS"
      },
      "source": [
        ""
      ],
      "execution_count": null,
      "outputs": []
    },
    {
      "cell_type": "code",
      "metadata": {
        "id": "6Lubd9J_h5lF"
      },
      "source": [
        ""
      ],
      "execution_count": null,
      "outputs": []
    },
    {
      "cell_type": "markdown",
      "metadata": {
        "id": "G6RUcp_RgFSI"
      },
      "source": [
        "##**10. Directiva For**"
      ]
    },
    {
      "cell_type": "markdown",
      "metadata": {
        "id": "LYKOUJU4BfZz"
      },
      "source": [
        "ALEX HELDER HUANCARA CCOLQQUE"
      ]
    },
    {
      "cell_type": "code",
      "metadata": {
        "id": "iMvtkGX_h6q3",
        "outputId": "4c4413f6-53aa-4f05-de88-2452c9e548c1",
        "colab": {
          "base_uri": "https://localhost:8080/"
        }
      },
      "source": [
        "code= \"\"\"\n",
        "#include<stdio.h>\n",
        "#include<omp.h>\n",
        "#include<unistd.h> \n",
        "#include<stdlib.h>\n",
        "\n",
        "int main()\n",
        "{\n",
        "    // Declarar variables\n",
        "    int i;\n",
        "    int n = 0;\n",
        "\n",
        "    #pragma omp parallel shared(n) private(i)\n",
        "    {\n",
        "        #pragma omp for\n",
        "        for (i = 0; i < n; i++)\n",
        "            printf(\"Thread %d executes loop iteration %d \\\\n\", omp_get_thread_num(), i);\n",
        "    } /*-- End of parallel region --*/\n",
        "    return 0;\n",
        "}\n",
        "\"\"\"\n",
        "text_file = open(\"code.c\", \"w\")\n",
        "text_file.write(code)\n",
        "text_file.close()\n",
        "%env OMP_NUM_THREADS=6\n",
        "!gcc -o directivafor -fopenmp code.c\n",
        "\n",
        "!./directivafor"
      ],
      "execution_count": null,
      "outputs": [
        {
          "output_type": "stream",
          "text": [
            "env: OMP_NUM_THREADS=6\n"
          ],
          "name": "stdout"
        }
      ]
    },
    {
      "cell_type": "markdown",
      "metadata": {
        "id": "q2k7Ga-2gRJr"
      },
      "source": [
        "##**11. Directiva Sections**\n",
        "#**Integrantes**\n",
        "\n",
        "\n",
        "*   Tintaya Taco Yurema Lisbeth....................174454\n",
        "*   Ugarte Castillo Briggitte Leonor................174455"
      ]
    },
    {
      "cell_type": "code",
      "metadata": {
        "id": "Nu8-l08ELR_G",
        "outputId": "c5a26663-6fa3-4bae-d3d6-f920a415365b",
        "colab": {
          "base_uri": "https://localhost:8080/"
        }
      },
      "source": [
        "code= \"\"\"\n",
        "#include <stdio.h>\n",
        "#include <omp.h>\n",
        "#include<unistd.h> \n",
        "#include<stdlib.h>\n",
        "int main() {\n",
        "    // damos inicio al programa paralelo\n",
        "    #pragma omp parallel sections num_threads(4)\n",
        "    {\n",
        "        printf(\"Hello from thread %d\\n\", omp_get_thread_num());\n",
        "        #pragma omp section \n",
        "        printf(\"Hello from thread %d\\n\", omp_get_thread_num());\n",
        "    }\n",
        "}\n",
        "\"\"\"\n",
        "text_file = open(\"code.c\", \"w\")\n",
        "text_file.write(code)\n",
        "text_file.close()\n",
        "%env OMP_NUM_THREADS=4\n",
        "!gcc -o code -fopenmp code.c\n",
        "!./code"
      ],
      "execution_count": null,
      "outputs": [
        {
          "output_type": "stream",
          "text": [
            "env: OMP_NUM_THREADS=4\n",
            "\u001b[01m\u001b[Kcode.c:\u001b[m\u001b[K In function ‘\u001b[01m\u001b[Kmain\u001b[m\u001b[K’:\n",
            "\u001b[01m\u001b[Kcode.c:10:16:\u001b[m\u001b[K \u001b[01;35m\u001b[Kwarning: \u001b[m\u001b[Kmissing terminating \" character\n",
            "         printf(\u001b[01;35m\u001b[K\"\u001b[m\u001b[KHello from thread %d\n",
            "                \u001b[01;35m\u001b[K^\u001b[m\u001b[K\n",
            "\u001b[01m\u001b[Kcode.c:10:16:\u001b[m\u001b[K \u001b[01;31m\u001b[Kerror: \u001b[m\u001b[Kmissing terminating \" character\n",
            "         printf(\u001b[01;31m\u001b[K\"Hello from thread %d\u001b[m\u001b[K\n",
            "                \u001b[01;31m\u001b[K^~~~~~~~~~~~~~~~~~~~~\u001b[m\u001b[K\n",
            "\u001b[01m\u001b[Kcode.c:11:1:\u001b[m\u001b[K \u001b[01;35m\u001b[Kwarning: \u001b[m\u001b[Kmissing terminating \" character\n",
            " \u001b[01;35m\u001b[K\"\u001b[m\u001b[K, omp_get_thread_num());\n",
            " \u001b[01;35m\u001b[K^\u001b[m\u001b[K\n",
            "\u001b[01m\u001b[Kcode.c:11:1:\u001b[m\u001b[K \u001b[01;31m\u001b[Kerror: \u001b[m\u001b[Kmissing terminating \" character\n",
            " \u001b[01;31m\u001b[K\", omp_get_thread_num());\u001b[m\u001b[K\n",
            " \u001b[01;31m\u001b[K^~~~~~~~~~~~~~~~~~~~~~~~~\u001b[m\u001b[K\n",
            "\u001b[01m\u001b[Kcode.c:12:17:\u001b[m\u001b[K \u001b[01;31m\u001b[Kerror: \u001b[m\u001b[Kexpected expression before ‘\u001b[01m\u001b[K#pragma\u001b[m\u001b[K’\n",
            "         #pragma \u001b[01;31m\u001b[Komp\u001b[m\u001b[K section\n",
            "                 \u001b[01;31m\u001b[K^~~\u001b[m\u001b[K\n",
            "\u001b[01m\u001b[Kcode.c:13:16:\u001b[m\u001b[K \u001b[01;35m\u001b[Kwarning: \u001b[m\u001b[Kmissing terminating \" character\n",
            "         printf(\u001b[01;35m\u001b[K\"\u001b[m\u001b[KHello from thread %d\n",
            "                \u001b[01;35m\u001b[K^\u001b[m\u001b[K\n",
            "\u001b[01m\u001b[Kcode.c:13:16:\u001b[m\u001b[K \u001b[01;31m\u001b[Kerror: \u001b[m\u001b[Kmissing terminating \" character\n",
            "         printf(\u001b[01;31m\u001b[K\"Hello from thread %d\u001b[m\u001b[K\n",
            "                \u001b[01;31m\u001b[K^~~~~~~~~~~~~~~~~~~~~\u001b[m\u001b[K\n",
            "\u001b[01m\u001b[Kcode.c:14:1:\u001b[m\u001b[K \u001b[01;35m\u001b[Kwarning: \u001b[m\u001b[Kmissing terminating \" character\n",
            " \u001b[01;35m\u001b[K\"\u001b[m\u001b[K, omp_get_thread_num());\n",
            " \u001b[01;35m\u001b[K^\u001b[m\u001b[K\n",
            "\u001b[01m\u001b[Kcode.c:14:1:\u001b[m\u001b[K \u001b[01;31m\u001b[Kerror: \u001b[m\u001b[Kmissing terminating \" character\n",
            " \u001b[01;31m\u001b[K\", omp_get_thread_num());\u001b[m\u001b[K\n",
            " \u001b[01;31m\u001b[K^~~~~~~~~~~~~~~~~~~~~~~~~\u001b[m\u001b[K\n",
            "\u001b[01m\u001b[Kcode.c:16:1:\u001b[m\u001b[K \u001b[01;31m\u001b[Kerror: \u001b[m\u001b[Kexpected ‘\u001b[01m\u001b[K;\u001b[m\u001b[K’ before ‘\u001b[01m\u001b[K}\u001b[m\u001b[K’ token\n",
            " \u001b[01;31m\u001b[K}\u001b[m\u001b[K\n",
            " \u001b[01;31m\u001b[K^\u001b[m\u001b[K\n",
            "\u001b[01m\u001b[Kcode.c:16:1:\u001b[m\u001b[K \u001b[01;31m\u001b[Kerror: \u001b[m\u001b[Kexpected declaration or statement at end of input\n",
            "/bin/bash: ./code: No such file or directory\n"
          ],
          "name": "stdout"
        }
      ]
    },
    {
      "cell_type": "markdown",
      "metadata": {
        "id": "u_cVAWO7gVnc"
      },
      "source": [
        "##**12. Directiva Single**"
      ]
    },
    {
      "cell_type": "code",
      "metadata": {
        "id": "99ggNuBth_xw"
      },
      "source": [
        ""
      ],
      "execution_count": null,
      "outputs": []
    },
    {
      "cell_type": "code",
      "metadata": {
        "id": "fhbBEWAtC7tv"
      },
      "source": [
        ""
      ],
      "execution_count": null,
      "outputs": []
    },
    {
      "cell_type": "markdown",
      "metadata": {
        "id": "UTgaaT4hgZp8"
      },
      "source": [
        "##**13. Default**"
      ]
    },
    {
      "cell_type": "markdown",
      "metadata": {
        "id": "6TnRhZ1pYf6u"
      },
      "source": [
        "**-NAOMI ISABEL MASIAS USCAMAYTA........155180**\n",
        "\n",
        "\n",
        "**-VICTOR URQUIZO CARBAJAL.....................155191**"
      ]
    },
    {
      "cell_type": "markdown",
      "metadata": {
        "id": "NETVTmjCYM7o"
      },
      "source": [
        "**DEFAULT**\n",
        "La cláusula default hace que se ejecuten las instrucciones a continuación de ella en caso de que la ejecución del programa llegue a alcanzarla. Si se usan las sentencias break; en cada evaluación, sólo se ejecutará lo indicado en default si no se ha encontrado una coincidencia previa."
      ]
    },
    {
      "cell_type": "code",
      "metadata": {
        "id": "jnmBfwf7iAQj",
        "outputId": "88fd7296-ef26-450d-d104-ea57770fa2e2",
        "colab": {
          "base_uri": "https://localhost:8080/",
          "height": 129
        }
      },
      "source": [
        "code = \"\"\n",
        "#include<iostream>\n",
        "#include<omp.h>\n",
        "using namespace std;\n",
        "int main() \n",
        "{\n",
        "\tint a,nth;\n",
        "\tint i;\n",
        "\t#pragma omp parallel default(none) shared(a,nth,i) \n",
        "\t{\n",
        "\t\tint tid,r;\n",
        "\t\ttid = omp_get_thread_num();\n",
        "\t\tnth = omp_get_num_threads();\n",
        "\t\t#pragma omp for\n",
        "\t\tfor (i = 0; i < 4; i++)\n",
        "\t\t{\n",
        "\t\t\tr = tid + 1;\n",
        "\t\t\ta = i +1;\n",
        "\t\t\tprintf(\"Este es el tid %d de un total (nth) de %d\\\\n donde a es: %d\\\\n y r es: %d\\\\n\", tid, nth,a,r);\n",
        "\t\t\t\n",
        "\t\t}\n",
        "\t\t\n",
        "\t}\n",
        "\t\n",
        "\tgetchar();\n",
        "\treturn 0;\n",
        "\n",
        "}"
      ],
      "execution_count": null,
      "outputs": [
        {
          "output_type": "error",
          "ename": "SyntaxError",
          "evalue": "ignored",
          "traceback": [
            "\u001b[0;36m  File \u001b[0;32m\"<ipython-input-2-94d44a6fbfe6>\"\u001b[0;36m, line \u001b[0;32m5\u001b[0m\n\u001b[0;31m    int main()\u001b[0m\n\u001b[0m           ^\u001b[0m\n\u001b[0;31mSyntaxError\u001b[0m\u001b[0;31m:\u001b[0m invalid syntax\n"
          ]
        }
      ]
    },
    {
      "cell_type": "markdown",
      "metadata": {
        "id": "i36ktGhxgdit"
      },
      "source": [
        "##**14. Cláusula Schedule**\n",
        "\n",
        "##Integrante : ##\n",
        "##*Huahuatico Soria Ronald     154856*##"
      ]
    },
    {
      "cell_type": "markdown",
      "metadata": {
        "id": "4RKXFWWVMnFG"
      },
      "source": [
        "Una cláusula schedule indica la forma como se dividen las iteraciones del for entre los\n",
        "threads:\n",
        "Una cláusula schedule indica la forma como se dividen las iteraciones del for entre los\n",
        "threads:\n",
        "- Schedule(guided,tamaño) :\n",
        "Las iteraciones se asignan dinámicamente a los threads\n",
        "pero con tamaños decrecientes, empezando en tamaño numiter/np y acabando en\n",
        "“tamaño”.\n",
        "\n",
        "- Schedule(dynamic,tamaño) : \n",
        "Las iteraciones se dividen según el tamaño y se asignan\n",
        "a los threads dinámicamente cuando van acabando su trabajo. Si no se inidica el tamaño se asigna aletoriamente a los hilos libres.\n",
        "\n",
        "- Schedule(static,tamaño) : Las iteraciones se dividen según el tamaño, y la asignación\n",
        "se hace estáticamente a los threads. Si no se indica el tamaño se divide por igual\n",
        "entre los threads."
      ]
    },
    {
      "cell_type": "code",
      "metadata": {
        "id": "KUuE8_rliA9n",
        "outputId": "4104fd85-50f8-4411-9b30-9a95801c6794",
        "colab": {
          "base_uri": "https://localhost:8080/"
        }
      },
      "source": [
        "code = \"\"\"\n",
        "#include <omp.h> \n",
        "#include <stdio.h> \n",
        "#include <unistd.h> \n",
        " \n",
        "#define N 7  //  N puede ser cualquier valor entero positivo\n",
        " \n",
        "int main ()   \n",
        "{ \n",
        "  //   Declaramos nuestras variables\n",
        "  int   tid; \n",
        "  int   A[N]; \n",
        "  int   i; \n",
        " \n",
        "for(i=0; i<N; i++) A[i]=-1; // Incializamos nuestro arreglo con valores en -1\n",
        "printf(\"Schedule  Guided 2 \\\\n\");\n",
        "//  Schedule guided \n",
        "#pragma omp parallel for schedule(guided,2) private(tid) \n",
        "for (i=0; i<N; i++) \n",
        "  { \n",
        "    tid = omp_get_thread_num(); \n",
        "    printf(\"Instruccion %d ejecutada por el hilo %d\\\\n\", i, tid);\n",
        "    A[i] = tid; \n",
        "    usleep(1);\n",
        "  } \n",
        "printf(\"Schedule  dynamic \\\\n\");\n",
        "// Schedule dynamic\n",
        "#pragma omp parallel for schedule(dynamic) private(tid) \n",
        "for (i=0; i<N; i++) \n",
        "  { \n",
        "    tid = omp_get_thread_num(); \n",
        "    printf(\"Instruccion %d ejecutada por el hilo %d\\\\n\", i, tid);\n",
        "    A[i] = tid; \n",
        "    usleep(1);\n",
        "  }\n",
        "printf(\"Schedule  static \\\\n\"); \n",
        "// Schedule static\n",
        "#pragma omp parallel for schedule(static) private(tid) \n",
        "for (i=0; i<N; i++) \n",
        "  { \n",
        "    tid = omp_get_thread_num(); \n",
        "    printf(\"Instruccion %d ejecutada por el hilo %d\\\\n\", i, tid);\n",
        "    A[i] = tid; \n",
        "    usleep(1);\n",
        "  }\n",
        "}\n",
        "\"\"\"\n",
        "text_file = open(\"code.c\", \"w\")\n",
        "text_file.write(code)\n",
        "text_file.close()\n",
        "%env OMP_NUM_THREADS=5\n",
        "!gcc -o Ejecutar -fopenmp code.c\n",
        "!./Ejecutar"
      ],
      "execution_count": null,
      "outputs": [
        {
          "output_type": "stream",
          "text": [
            "env: OMP_NUM_THREADS=5\n",
            "Schedule  Guided 2 \n",
            "Instruccion 2 ejecutada por el hilo 1\n",
            "Instruccion 4 ejecutada por el hilo 3\n",
            "Instruccion 0 ejecutada por el hilo 2\n",
            "Instruccion 6 ejecutada por el hilo 4\n",
            "Instruccion 3 ejecutada por el hilo 1\n",
            "Instruccion 5 ejecutada por el hilo 3\n",
            "Instruccion 1 ejecutada por el hilo 2\n",
            "Schedule  dynamic \n",
            "Instruccion 0 ejecutada por el hilo 1\n",
            "Instruccion 1 ejecutada por el hilo 3\n",
            "Instruccion 2 ejecutada por el hilo 4\n",
            "Instruccion 3 ejecutada por el hilo 0\n",
            "Instruccion 4 ejecutada por el hilo 2\n",
            "Instruccion 5 ejecutada por el hilo 2\n",
            "Instruccion 6 ejecutada por el hilo 1\n",
            "Schedule  static \n",
            "Instruccion 0 ejecutada por el hilo 0\n",
            "Instruccion 6 ejecutada por el hilo 4\n",
            "Instruccion 2 ejecutada por el hilo 1\n",
            "Instruccion 4 ejecutada por el hilo 2\n",
            "Instruccion 5 ejecutada por el hilo 3\n",
            "Instruccion 1 ejecutada por el hilo 0\n",
            "Instruccion 3 ejecutada por el hilo 1\n"
          ],
          "name": "stdout"
        }
      ]
    },
    {
      "cell_type": "markdown",
      "metadata": {
        "id": "vK2wJxRWgkrt"
      },
      "source": [
        "##**15. Cláusula Collapse**"
      ]
    },
    {
      "cell_type": "markdown",
      "metadata": {
        "id": "tDBjZ3lMdFbF"
      },
      "source": [
        "VICTOR POOL HUILLCA HERRERA\n",
        "\n",
        "CARLOS EDUARDO INCA CRUZ"
      ]
    },
    {
      "cell_type": "code",
      "metadata": {
        "id": "vJnewJbziBb9",
        "outputId": "28942809-118a-4cbb-e128-6af108b023f1",
        "colab": {
          "base_uri": "https://localhost:8080/"
        }
      },
      "source": [
        "code = \"\"\"\n",
        "#include <omp.h>\n",
        "#include <stdlib.h>\n",
        "#include <stdio.h>\n",
        "#include <unistd.h>\n",
        "\n",
        "\n",
        "\n",
        "//Modulo sin collapse clause\n",
        "void Test1()\n",
        "{\n",
        "    printf(\"\\\\nMODULO SIN COLLAPSE CLAUSE\\\\n\\\\n\");\n",
        "    int i, j, k;\n",
        "#pragma omp parallel   private(i,j,k)\n",
        "    {\n",
        "#pragma omp for\n",
        "        for (i = 0; i < 2; i++)\n",
        "        {\n",
        "            for (j = 0; j < 3; j++)\n",
        "            {\n",
        "                for (k = 0; k < 3; k++)\n",
        "                {\n",
        "                    printf(\"i:%d \\\\tj:%d \\\\tk:%d \\\\tThread_ID:%d de %d hilos\\\\n\", i, j, k, omp_get_thread_num(),omp_get_num_threads());\n",
        "                    sleep(1);\n",
        "                }\n",
        "            }\n",
        "        }\n",
        "    }\n",
        "}\n",
        "\n",
        "//Modulo con collapse clause\n",
        "void Test2()\n",
        "{\n",
        "    printf(\"\\\\nMODULO CON COLLAPSE CLAUSE\\\\n\\\\n\");\n",
        "    int i, j, k;\n",
        "#pragma omp parallel   private(i,j,k)\n",
        "    {\n",
        "#pragma omp for collapse(2)\n",
        "        for (i = 0; i < 2; i++)\n",
        "        {\n",
        "            for (j = 0; j < 3; j++)\n",
        "            {\n",
        "                for (k = 0; k < 3; k++)\n",
        "                {\n",
        "\n",
        "                    printf(\"i:%d \\\\tj:%d \\\\tk:%d \\\\tThread_ID:%d de %d hilos\\\\n\", i, j, k, omp_get_thread_num(),omp_get_num_threads());\n",
        "                    sleep(1);\n",
        "                }\n",
        "            }\n",
        "        }\n",
        "    }\n",
        "}\n",
        "\n",
        "int main()\n",
        "{\n",
        "\n",
        "    double start;\n",
        "    double end;\n",
        "\n",
        "\n",
        "    //modulo sin collapse clause\n",
        "    start = omp_get_wtime();\n",
        "    Test1();\n",
        "    end = omp_get_wtime();\n",
        "    printf(\"Tiempo de ejecucion %f seconds\\\\n\", end - start);\n",
        "    //tiempo de ejecucion lento por solo usar 2 hilos\n",
        "\n",
        "    //modulo con collapse clause\n",
        "    start = omp_get_wtime();\n",
        "    Test2();\n",
        "    end = omp_get_wtime();\n",
        "    printf(\"Tiempo de ejecucion %f seconds\\\\n\", end - start);\n",
        "    //tiempo de ejecucion rapido por solo usar 6 hilos\n",
        "    return 0;\n",
        "}\n",
        "\n",
        "\n",
        "\"\"\"\n",
        "\n",
        "text_file = open(\"code.c\", \"w\")\n",
        "text_file.write(code)\n",
        "text_file.close()\n",
        "%env OMP_NUM_THREADS=6\n",
        "!gcc -o clausulacollapse -fopenmp code.c\n",
        "\n",
        "!./clausulacollapse\n"
      ],
      "execution_count": null,
      "outputs": [
        {
          "output_type": "stream",
          "text": [
            "env: OMP_NUM_THREADS=6\n",
            "\n",
            "MODULO SIN COLLAPSE CLAUSE\n",
            "\n",
            "i:0 \tj:0 \tk:0 \tThread_ID:0 de 6 hilos\n",
            "i:1 \tj:0 \tk:0 \tThread_ID:1 de 6 hilos\n",
            "i:0 \tj:0 \tk:1 \tThread_ID:0 de 6 hilos\n",
            "i:1 \tj:0 \tk:1 \tThread_ID:1 de 6 hilos\n",
            "i:0 \tj:0 \tk:2 \tThread_ID:0 de 6 hilos\n",
            "i:1 \tj:0 \tk:2 \tThread_ID:1 de 6 hilos\n",
            "i:0 \tj:1 \tk:0 \tThread_ID:0 de 6 hilos\n",
            "i:1 \tj:1 \tk:0 \tThread_ID:1 de 6 hilos\n",
            "i:1 \tj:1 \tk:1 \tThread_ID:1 de 6 hilos\n",
            "i:0 \tj:1 \tk:1 \tThread_ID:0 de 6 hilos\n",
            "i:1 \tj:1 \tk:2 \tThread_ID:1 de 6 hilos\n",
            "i:0 \tj:1 \tk:2 \tThread_ID:0 de 6 hilos\n",
            "i:1 \tj:2 \tk:0 \tThread_ID:1 de 6 hilos\n",
            "i:0 \tj:2 \tk:0 \tThread_ID:0 de 6 hilos\n",
            "i:0 \tj:2 \tk:1 \tThread_ID:0 de 6 hilos\n",
            "i:1 \tj:2 \tk:1 \tThread_ID:1 de 6 hilos\n",
            "i:1 \tj:2 \tk:2 \tThread_ID:1 de 6 hilos\n",
            "i:0 \tj:2 \tk:2 \tThread_ID:0 de 6 hilos\n",
            "Tiempo de ejecucion 9.002593 seconds\n",
            "\n",
            "MODULO CON COLLAPSE CLAUSE\n",
            "\n",
            "i:0 \tj:1 \tk:0 \tThread_ID:1 de 6 hilos\n",
            "i:0 \tj:0 \tk:0 \tThread_ID:0 de 6 hilos\n",
            "i:0 \tj:2 \tk:0 \tThread_ID:2 de 6 hilos\n",
            "i:1 \tj:0 \tk:0 \tThread_ID:3 de 6 hilos\n",
            "i:1 \tj:2 \tk:0 \tThread_ID:5 de 6 hilos\n",
            "i:1 \tj:1 \tk:0 \tThread_ID:4 de 6 hilos\n",
            "i:0 \tj:1 \tk:1 \tThread_ID:1 de 6 hilos\n",
            "i:0 \tj:0 \tk:1 \tThread_ID:0 de 6 hilos\n",
            "i:1 \tj:1 \tk:1 \tThread_ID:4 de 6 hilos\n",
            "i:0 \tj:2 \tk:1 \tThread_ID:2 de 6 hilos\n",
            "i:1 \tj:0 \tk:1 \tThread_ID:3 de 6 hilos\n",
            "i:1 \tj:2 \tk:1 \tThread_ID:5 de 6 hilos\n",
            "i:0 \tj:1 \tk:2 \tThread_ID:1 de 6 hilos\n",
            "i:0 \tj:2 \tk:2 \tThread_ID:2 de 6 hilos\n",
            "i:0 \tj:0 \tk:2 \tThread_ID:0 de 6 hilos\n",
            "i:1 \tj:0 \tk:2 \tThread_ID:3 de 6 hilos\n",
            "i:1 \tj:1 \tk:2 \tThread_ID:4 de 6 hilos\n",
            "i:1 \tj:2 \tk:2 \tThread_ID:5 de 6 hilos\n",
            "Tiempo de ejecucion 3.000524 seconds\n"
          ],
          "name": "stdout"
        }
      ]
    },
    {
      "cell_type": "markdown",
      "metadata": {
        "id": "5vsh96nUgo-9"
      },
      "source": [
        "##**16. Cláusula Nowait**\n",
        "**Integrantes:**\n",
        "* Ccuito Quispe Jhon Albert (161757)\n",
        "* Cordova Castro Marko Leugim (160890)\n",
        "\n",
        "**Ejecución:**"
      ]
    },
    {
      "cell_type": "code",
      "metadata": {
        "id": "r0Bb42PBiCHI",
        "outputId": "a18c6443-c6fa-43be-8383-1989d6847c2e",
        "colab": {
          "base_uri": "https://localhost:8080/"
        }
      },
      "source": [
        "code= \"\"\"\n",
        "#include <stdio.h>\n",
        "#define SIZE 5\n",
        "void test(int* a, int* b, int* c, int size)\n",
        "{\n",
        "    int i;\n",
        "#pragma omp parallel\n",
        "    {\n",
        "    #pragma omp for nowait\n",
        "        for (i = 0; i < size; i++)\n",
        "            b[i] = a[i] * a[i];           \n",
        "    #pragma omp for nowait\n",
        "        for (i = 0; i < size; i++)           \n",
        "            c[i] = a[i] / 2;            \n",
        "    }\n",
        "}\n",
        "\n",
        "int main()\n",
        "{\n",
        "    int a[SIZE], b[SIZE], c[SIZE];\n",
        "    int i;\n",
        "\n",
        "    for (i = 0; i < SIZE; i++)\n",
        "        a[i] = i;\n",
        "\n",
        "    test(a, b, c, SIZE);\n",
        "\n",
        "    for (i = 0; i < SIZE; i++)\n",
        "        printf(\"A[i]=%d  B[i]=%d C[i]=%d\\\\n\", a[i], b[i], c[i]);\n",
        "}\n",
        "\"\"\"\n",
        "text_file = open(\"code.c\", \"w\")\n",
        "text_file.write(code)\n",
        "text_file.close()\n",
        "%env OMP_NUM_THREADS=2\n",
        "!gcc -o code -fopenmp code.c\n",
        "!./code"
      ],
      "execution_count": null,
      "outputs": [
        {
          "output_type": "stream",
          "text": [
            "env: OMP_NUM_THREADS=2\n",
            "A[i]=0  B[i]=0 C[i]=0\n",
            "A[i]=1  B[i]=1 C[i]=0\n",
            "A[i]=2  B[i]=4 C[i]=1\n",
            "A[i]=3  B[i]=9 C[i]=1\n",
            "A[i]=4  B[i]=16 C[i]=2\n"
          ],
          "name": "stdout"
        }
      ]
    },
    {
      "cell_type": "markdown",
      "metadata": {
        "id": "lMdDvRewgsL4"
      },
      "source": [
        "##**17. Cláusula Sections**\n",
        "\n",
        "\n",
        "\n"
      ]
    },
    {
      "cell_type": "markdown",
      "metadata": {
        "id": "L8ZZnocbPSHV"
      },
      "source": [
        "Integrantes:\n",
        "\n",
        "\n",
        "*   Sipaucar Condori Maritza 141011\n",
        "*   Quispe Palomino Luiyi Antoni 174914\n",
        "\n"
      ]
    },
    {
      "cell_type": "code",
      "metadata": {
        "id": "JqON06Y_QBC5",
        "outputId": "ee6638cf-9ac7-4007-c24c-bfb0b34f59a2",
        "colab": {
          "base_uri": "https://localhost:8080/"
        }
      },
      "source": [
        "code= \"\"\"\n",
        "#include <stdio.h>\n",
        "#include <omp.h>\n",
        "\n",
        "int main()\n",
        "{\n",
        "    int length = 8;\n",
        "    #pragma omp parallel sections num_threads(6)\n",
        "    {\n",
        "        {\n",
        "            printf(\"(no section)Hello from thread %d\\\\n\", omp_get_thread_num());\n",
        "            printf(\"(no section)Hello from thread %d\\\\n\", omp_get_thread_num());\n",
        "            printf(\"(no section)Hello from thread %d\\\\n\", omp_get_thread_num());\n",
        "            printf(\"(no section)Hello from thread %d\\\\n\", omp_get_thread_num());\n",
        "        }\n",
        "\n",
        "        #pragma omp section\n",
        "        {\n",
        "            printf(\"Hello from thread %d\\\\n\", omp_get_thread_num());\n",
        "            printf(\"Hello from thread %d\\\\n\", omp_get_thread_num());\n",
        "            printf(\"Hello from thread %d\\\\n\", omp_get_thread_num());\n",
        "            printf(\"Hello from thread %d\\\\n\", omp_get_thread_num());\n",
        "        }\n",
        "        #pragma omp section\n",
        "        {\n",
        "            printf(\"Hello from thread %d\\\\n\", omp_get_thread_num());\n",
        "            printf(\"Hello from thread %d\\\\n\", omp_get_thread_num());\n",
        "            printf(\"Hello from thread %d\\\\n\", omp_get_thread_num());\n",
        "            printf(\"Hello from thread %d\\\\n\", omp_get_thread_num());\n",
        "        }\n",
        "        #pragma omp section\n",
        "        {\n",
        "            printf(\"Hello from thread %d\\\\n\", omp_get_thread_num());\n",
        "            printf(\"Hello from thread %d\\\\n\", omp_get_thread_num());\n",
        "            printf(\"Hello from thread %d\\\\n\", omp_get_thread_num());\n",
        "            printf(\"Hello from thread %d\\\\n\", omp_get_thread_num());\n",
        "        }\n",
        "        #pragma omp section\n",
        "        {\n",
        "            int i = 0;\n",
        "            int hilo = omp_get_thread_num();\n",
        "            for (i ; i < hilo ; i++)\n",
        "            {\n",
        "                printf(\"hola %d\\\\n\",i);\n",
        "            }\n",
        "        }\n",
        "    }\n",
        "}\n",
        "\"\"\"\n",
        "text_file = open(\"code.c\", \"w\")\n",
        "text_file.write(code)\n",
        "text_file.close()\n",
        "%env OMP_NUM_THREADS=6\n",
        "!gcc -o code -fopenmp code.c\n",
        "!./code"
      ],
      "execution_count": null,
      "outputs": [
        {
          "output_type": "stream",
          "text": [
            "env: OMP_NUM_THREADS=6\n",
            "Hello from thread 0\n",
            "Hello from thread 0\n",
            "Hello from thread 0\n",
            "Hello from thread 0\n",
            "Hello from thread 1\n",
            "Hello from thread 1\n",
            "Hello from thread 1\n",
            "Hello from thread 1\n",
            "hola 0\n",
            "hola 1\n",
            "hola 2\n",
            "hola 3\n",
            "Hello from thread 3\n",
            "Hello from thread 3\n",
            "Hello from thread 3\n",
            "Hello from thread 3\n",
            "(no section)Hello from thread 5\n",
            "(no section)Hello from thread 5\n",
            "(no section)Hello from thread 5\n",
            "(no section)Hello from thread 5\n"
          ],
          "name": "stdout"
        }
      ]
    },
    {
      "cell_type": "markdown",
      "metadata": {
        "id": "xUDEfdMXg-8g"
      },
      "source": [
        "##**18. Directiva Critical**\n",
        "**Integrantes:**\n",
        "* Lazo Mendoza, Jeremy Axl (182916)\n",
        "* Villasante León, Amaru   (182940)\n",
        "\n",
        "**Ejecución:**"
      ]
    },
    {
      "cell_type": "code",
      "metadata": {
        "id": "73KB4Jt6iDNf",
        "outputId": "f8af881b-9eba-4e51-c08c-6fcc03bfafed",
        "colab": {
          "base_uri": "https://localhost:8080/"
        }
      },
      "source": [
        "code= \"\"\"\n",
        "#include<stdio.h>\n",
        "#include<omp.h>\n",
        "int main()\n",
        "{\n",
        "    //Declarando variables\n",
        "    int A[1000] = { 15,32,36,57,81,71,81,76,6,46,37,78,50,23,38,3,77,2,23,88,4,17,73,76,41,24,5,49,21,80,80,11,45,84,31,40,83,57,14,9,34,57,67,87,37,18,91,74,13,40,73,50,12,60,94,82,68,38,47,46,35,46,33,52,93,46,62,35,72,84,41,67,98,81,59,23,0,69,22,47,98,1,15,12,83,49,47,26,78,91,64,98,93,95,89,49,41,37,13,39,11,24,39,7,29,12,33,17,12,22,41,85,32,35,29,96,52,2,98,40,0,46,18,5,20,11,59,61,7,63,91,59,40,81,27,68,60,21,97,6,16,30,94,42,84,36,14,91,0,72,13,43,61,83,25,38,19,74,93,1,3,14,58,8,80,54,56,19,10,96,79,65,40,38,98,94,45,22,92,0,49,44,97,84,82,98,59,82,39,32,5,76,35,93,24,6,25,14,49,51,99,41,23,15,57,93,69,10,3,84,33,96,69,68,58,98,46,71,74,88,7,97,53,51,73,20,22,48,18,26,31,13,39,76,96,48,78,74,98,50,39,2,62,62,76,94,71,46,61,62,48,89,91,81,91,77,80,63,72,3,12,55,98,77,7,1,87,95,99,91,11,93,0,67,59,84,60,37,17,11,99,79,75,52,43,28,12,67,81,5,78,10,73,65,14,6,70,68,32,29,25,23,2,16,54,57,23,26,59,9,49,2,29,82,72,22,24,15,47,57,27,16,32,90,8,88,83,21,25,78,27,33,39,9,68,14,5,95,72,57,88,57,49,86,10,11,42,82,5,48,98,70,66,43,45,62,73,85,40,65,99,45,47,92,1,59,13,8,46,89,44,57,8,95,41,85,67,91,75,25,2,68,31,58,74,19,50,95,1,50,94,7,12,66,62,37,51,12,5,78,0,60,96,41,22,98,87,12,82,92,77,83,80,84,87,95,56,22,31,57,67,13,89,6,44,22,86,37,42,76,87,91,20,46,8,70,14,10,14,5,69,4,45,95,42,98,74,11,43,81,24,27,59,28,41,11,72,7,28,99,33,87,68,75,16,0,76,39,44,39,21,92,68,61,27,74,8,84,40,94,96,8,89,93,14,25,98,29,3,35,44,44,1,17,65,79,98,26,83,93,53,94,77,60,81,17,91,75,75,77,64,57,1,32,1,80,75,58,47,26,33,96,13,28,28,67,91,79,34,9,35,76,56,13,54,82,38,38,24,59,82,12,99,35,76,59,25,56,30,17,82,19,58,68,65,14,13,7,1,38,86,15,54,75,50,37,59,62,99,78,36,61,81,91,2,57,65,82,77,97,16,25,57,90,35,42,86,11,29,2,54,45,16,94,85,86,41,2,6,87,14,32,85,90,5,81,95,7,74,10,61,81,43,34,73,75,12,26,77,30,98,21,5,48,8,44,88,79,47,13,41,73,33,52,20,98,61,46,38,24,5,98,33,3,6,32,25,65,35,39,66,92,15,26,19,82,44,79,82,27,0,4,17,25,31,98,41,40,69,86,33,41,18,49,68,21,2,3,55,13,78,23,93,56,24,51,96,7,34,30,69,85,38,45,18,39,13,18,67,81,61,97,78,49,71,21,32,7,81,99,29,27,8,97,57,59,46,58,4,76,82,40,39,6,15,34,72,2,10,8,40,92,14,75,79,25,82,81,3,6,66,68,28,70,90,65,40,77,12,41,83,65,54,39,65,57,63,41,71,91,50,76,86,54,15,48,6,76,98,81,86,70,30,94,60,98,78,44,12,89,66,30,72,37,76,70,79,76,88,93,10,73,53,50,50,18,97,44,71,95,28,57,37,58,51,25,9,92,63,68,62,55,96,83,20,85,39,89,60,75,48,89,58,73,72,38,32,45,2,88,56,2,39,25,95,35,23,6,59,88,22,54,65,4,35,27,71,20,60,40,46,75,70,27,83,75,50,32,52,71,56,6,8,36,31,49,90,77,86,51,65,81,97,34,87,76,31,86,81,15,13,11,23,4,35,66,61,50,27,5,13,35,91,55,14,34,60,13,36,95,18,69,84,56,27,89,74,15,34,16,34,65,77,42,0,29,62,2,32,62,36,43,44,53,17,92,31,51,51,45,2,13,81,73,12,89,76,81,28,71,82,41,21,88,49,89,37,91,83,27,75,32,8,20,21,82,92,71,83,68,15,25,8,92,83,69,45,11,37,92,71,7,54,49,72,61,27,21,50,73,78,1,7,72,31,22,76,86,52,14,65,24,65,13,61,68,70,35,83,46 };\n",
        "    int n = 1000; //Longitud del arreglo\n",
        "    int sumTotal = 0; //Resultado de la suma\n",
        "    int TID, sumLocal,i; //Demas variables\n",
        "\n",
        "    printf(\"\\\\n\");\n",
        "    #pragma omp parallel shared(n,sumTotal,A) private(TID, sumLocal) num_threads(6)\n",
        "    {\n",
        "        TID = omp_get_thread_num();\n",
        "        sumLocal = 0;\n",
        "        #pragma omp for\n",
        "        for (i = 0; i < n; i++)\n",
        "            sumLocal += A[i];\n",
        "        #pragma omp critical\n",
        "        {\n",
        "            sumTotal += sumLocal;\n",
        "            printf(\"TID=%d : sumLocal=%d sumTotal=%d \\\\n\", TID, sumLocal, sumTotal);\n",
        "        } \n",
        "    }\n",
        "    printf(\"\\\\nLa suma total del arreglo es : %d\", sumTotal);\n",
        "    return 0;\n",
        "}\n",
        "\"\"\"\n",
        "text_file = open(\"code.c\", \"w\")\n",
        "text_file.write(code)\n",
        "text_file.close()\n",
        "%env OMP_NUM_THREADS=2\n",
        "!gcc -o code -fopenmp code.c\n",
        "!./code"
      ],
      "execution_count": null,
      "outputs": [
        {
          "output_type": "stream",
          "text": [
            "env: OMP_NUM_THREADS=2\n",
            "\n",
            "TID=5 : sumLocal=8136 sumTotal=8136 \n",
            "TID=2 : sumLocal=8601 sumTotal=16737 \n",
            "TID=1 : sumLocal=8541 sumTotal=25278 \n",
            "TID=3 : sumLocal=8141 sumTotal=33419 \n",
            "TID=0 : sumLocal=7793 sumTotal=41212 \n",
            "TID=4 : sumLocal=8789 sumTotal=50001 \n",
            "\n",
            "La suma total del arreglo es : 50001"
          ],
          "name": "stdout"
        }
      ]
    },
    {
      "cell_type": "markdown",
      "metadata": {
        "id": "FBuHcqlHhKoF"
      },
      "source": [
        "##**19. Directiva Atomic**\n",
        "**Integrantes:**\n",
        "* Mamani Crispin, Isai Isaac (093178)\n",
        "* Quispe Huarhua, Ivan Arthur  (113567)\n",
        "\n",
        "**Ejecución:**"
      ]
    },
    {
      "cell_type": "code",
      "metadata": {
        "id": "ttaJb9ZAiEOV"
      },
      "source": [
        "\n",
        "code= \"\"\"\n",
        "\n",
        "#include <omp.h> \n",
        "#include <stdio.h> \n",
        "#include <unistd.h>\n",
        " \n",
        "#include<stdlib.h>\n",
        "\n",
        "\n",
        "#define MAX 15\n",
        "\n",
        "int main()\n",
        "{\n",
        "    int count = 0;\n",
        "#pragma omp parallel num_threads(MAX)\n",
        "    {\n",
        "#pragma omp atomic // SECCION  ATOMIC\n",
        "        count++;\n",
        "    }\n",
        "    printf_s(\"Number of threads: %d\\n\", count);\n",
        "}\n",
        "\n",
        "\"\"\"\n",
        "\n",
        "\n",
        "\n"
      ],
      "execution_count": null,
      "outputs": []
    }
  ]
}